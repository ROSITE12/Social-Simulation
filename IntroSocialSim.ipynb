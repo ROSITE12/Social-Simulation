{
  "cells": [
    {
      "cell_type": "markdown",
      "metadata": {
        "id": "4WRQzloLD39R"
      },
      "source": [
        "<img src=\"https://i.imgur.com/6U6q5jQ.png\"/>\n",
        "\n",
        "_____"
      ]
    },
    {
      "cell_type": "markdown",
      "metadata": {
        "id": "JyDsvVNED39S"
      },
      "source": [
        "<a target=\"_blank\" href=\"https://colab.research.google.com/github/SocialAnalytics-StrategicIntelligence/introSocialSim/blob/main/IntroSocialSim.ipynb\">\n",
        "  <img src=\"https://colab.research.google.com/assets/colab-badge.svg\" alt=\"Open In Colab\"/>\n",
        "</a>\n",
        "\n",
        "# Introduction to Social Simulation\n",
        "\n",
        "Statistical analysis benefits primarily the study of variables/ factors distributions. We could complement that approach if we focus on the actors that produce the variables.\n",
        "\n",
        "However, representing the actor is not an easy task:\n",
        "\n",
        "* A social outcome is a **complex** aggregate of individual actors. In general we call social outcomes **emergent** results of individual decisions.\n",
        "\n",
        "* Individual decisions have been assumed to be rational, which over simplyfies models of actors. As a matter of fact, decision making is a field under study.\n",
        "\n",
        "* Information processing of agents is biased by \"culture\" (beliefs, experience) and institutions (rules, habits). And many paradigms can co-exist in a particular group. Change is possible, but social structure and culture limits it.\n",
        "\n",
        "* Actors actions and decisions occur within a network of agents. An actor can be part of several networks.\n",
        "\n",
        "\n",
        "The field related to this study is **Computational Social Science**. The particular methodology is **agent-based modelling**."
      ]
    },
    {
      "cell_type": "markdown",
      "metadata": {
        "id": "4t_9LFzID39T"
      },
      "source": [
        "# A simple game as an example\n",
        "\n",
        "According to WIKIPEDIA, the game Rock, Paper, Scissors is a simultaneous, zero-sum game, with three possible outcomes: a draw, a win, or a loss:\n",
        "\n",
        "* A player who decides to play **ROCK** will beat another player who chooses **SCISSORS** (\"rock crushes scissors\" or \"breaks scissors\")\n",
        "* A player who decides to play **ROCK**  will lose to one who has played **PAPER** (\"paper covers rock\").\n",
        "* A player who decides to play **PAPER** will lose to a play of **SCISSORS** (\"scissors cuts paper\").\n",
        "* If both players choose the same shape, the game is tied.\n",
        "\n",
        "Let´s represent the game:\n",
        "\n",
        "## Strategies\n",
        "\n",
        "Strategies are the options available:"
      ]
    },
    {
      "cell_type": "code",
      "execution_count": null,
      "metadata": {
        "id": "E-N_PImvD39U"
      },
      "outputs": [],
      "source": [
        "strategies=['Rock','Paper','Scissors']"
      ]
    },
    {
      "cell_type": "markdown",
      "metadata": {
        "id": "4-QwRiSPD39W"
      },
      "source": [
        "## Rules\n",
        "\n",
        "The rules tell you that according to a strategy followed, players get a pay-off:"
      ]
    },
    {
      "cell_type": "code",
      "execution_count": null,
      "metadata": {
        "id": "j76Jhl5kD39X"
      },
      "outputs": [],
      "source": [
        "payoff={('Rock','Paper'):(0,1),\n",
        "        ('Paper','Rock'):(1,0),\n",
        "        ('Rock','Scissors'):(1,0),\n",
        "        ('Scissors','Rock'):(0,1),\n",
        "        ('Paper','Scissors'):(0,1),\n",
        "        ('Scissors','Paper'):(1,0),\n",
        "        ('Rock','Rock'):(0,0),\n",
        "        ('Paper','Paper'):(0,0),\n",
        "        ('Scissors','Scissors'):(0,0)}"
      ]
    },
    {
      "cell_type": "markdown",
      "metadata": {
        "id": "_dNx4lptD39X"
      },
      "source": [
        "## Creating and setting up agents:\n",
        "\n",
        "Players have a name, but have no score, and no strategy yet."
      ]
    },
    {
      "cell_type": "code",
      "execution_count": null,
      "metadata": {
        "id": "jdoT1sgND39Y"
      },
      "outputs": [],
      "source": [
        "Players=[{'name':'John','score':0,'strategy':None},\n",
        "         {'name':'Mary','score':0,'strategy':None}]"
      ]
    },
    {
      "cell_type": "markdown",
      "metadata": {
        "id": "PfBqq5QLD39Y"
      },
      "source": [
        "## Decision making process\n",
        "\n",
        "This is the process to choose an strategy:"
      ]
    },
    {
      "cell_type": "code",
      "execution_count": null,
      "metadata": {
        "id": "_xlSozdCD39Z"
      },
      "outputs": [],
      "source": [
        "from random import choice\n",
        "\n",
        "#simplest strategy: choose randomly\n",
        "choice(strategies);"
      ]
    },
    {
      "cell_type": "markdown",
      "metadata": {
        "id": "FEcqUIdjD39Z"
      },
      "source": [
        "## The moment of truth"
      ]
    },
    {
      "cell_type": "markdown",
      "metadata": {
        "id": "JwdPJbEtD39a"
      },
      "source": [
        "* ### agent decide strategy"
      ]
    },
    {
      "cell_type": "code",
      "execution_count": null,
      "metadata": {
        "id": "G-7ZxQUvD39a"
      },
      "outputs": [],
      "source": [
        "Players[0]['strategy']=choice(strategies)\n",
        "Players[1]['strategy']=choice(strategies)"
      ]
    },
    {
      "cell_type": "markdown",
      "metadata": {
        "id": "hjp49DXBD39b"
      },
      "source": [
        "* ### decisions made"
      ]
    },
    {
      "cell_type": "code",
      "execution_count": null,
      "metadata": {
        "id": "J-KpzeQsD39b"
      },
      "outputs": [],
      "source": [
        "Players[0]['strategy'],Players[1]['strategy']"
      ]
    },
    {
      "cell_type": "code",
      "execution_count": null,
      "metadata": {
        "id": "q-VkB1v0D39c"
      },
      "outputs": [],
      "source": [
        "# social result of individual decision\n",
        "result = payoff[Players[0]['strategy'],Players[1]['strategy']]\n",
        "result"
      ]
    },
    {
      "cell_type": "markdown",
      "metadata": {
        "id": "Vw59m1v7D39c"
      },
      "source": [
        "* ### agent benefits/suffers from decision made"
      ]
    },
    {
      "cell_type": "code",
      "execution_count": null,
      "metadata": {
        "id": "sM4LblyvD39c"
      },
      "outputs": [],
      "source": [
        "# update agents situation\n",
        "Players[0]['score']+=result[0]\n",
        "Players[1]['score']+=result[1]"
      ]
    },
    {
      "cell_type": "code",
      "execution_count": null,
      "metadata": {
        "id": "P7eNlQABD39d"
      },
      "outputs": [],
      "source": [
        "# current agent situation\n",
        "Players"
      ]
    },
    {
      "cell_type": "markdown",
      "metadata": {
        "id": "hQ-3VrBfD39d"
      },
      "source": [
        "* ### social outcome"
      ]
    },
    {
      "cell_type": "code",
      "execution_count": null,
      "metadata": {
        "id": "JJ6As-lfD39d"
      },
      "outputs": [],
      "source": [
        "import pandas as pd\n",
        "\n",
        "socialResults=pd.DataFrame((Players[0], Players[1]))\n",
        "socialResults"
      ]
    },
    {
      "cell_type": "code",
      "execution_count": null,
      "metadata": {
        "id": "eyK4ArjeD39d"
      },
      "outputs": [],
      "source": [
        "winnerScore=socialResults.score.max()\n",
        "\n",
        "#social outcome\n",
        "socialResults[socialResults.score==winnerScore]"
      ]
    },
    {
      "cell_type": "markdown",
      "metadata": {
        "id": "N8TfFuyZD39d"
      },
      "source": [
        "# More players"
      ]
    },
    {
      "cell_type": "code",
      "execution_count": null,
      "metadata": {
        "id": "NccHD-shD39e"
      },
      "outputs": [],
      "source": [
        "# names of players\n",
        "names=['Jim','Jane','Peter','Zoe']"
      ]
    },
    {
      "cell_type": "code",
      "execution_count": null,
      "metadata": {
        "id": "5-y8TNiCD39e"
      },
      "outputs": [],
      "source": [
        "# setting up players\n",
        "society=[{'name':n,'score':0,'strategy':None} for n in names]"
      ]
    },
    {
      "cell_type": "code",
      "execution_count": null,
      "metadata": {
        "id": "m78m6aalD39e"
      },
      "outputs": [],
      "source": [
        "# each player a dict:\n",
        "society"
      ]
    },
    {
      "cell_type": "code",
      "execution_count": null,
      "metadata": {
        "id": "Yz-NSknHD39e"
      },
      "outputs": [],
      "source": [
        "import itertools\n",
        "\n",
        "# pair is a tuple of dicts\n",
        "for pair in itertools.combinations(society,2):\n",
        "    print(pair)"
      ]
    },
    {
      "cell_type": "code",
      "execution_count": null,
      "metadata": {
        "id": "a9QnCraeD39e"
      },
      "outputs": [],
      "source": [
        "import itertools\n",
        "\n",
        "# each dict\n",
        "for player1,player2 in itertools.combinations(society,2):\n",
        "    print(player1,player2)"
      ]
    },
    {
      "cell_type": "code",
      "execution_count": null,
      "metadata": {
        "id": "3sK8SQEsD39e"
      },
      "outputs": [],
      "source": [
        "# resetting society\n",
        "society=[{'name':n,'score':0,'strategy':None} for n in names]\n",
        "\n",
        "# several rounds\n",
        "for aRound in range(100):\n",
        "\n",
        "    # en each round:\n",
        "    for player1,player2 in itertools.combinations(society,2):\n",
        "        # each chooses strategy\n",
        "        player1['strategy']=choice(strategies)\n",
        "\n",
        "        player2['strategy']=choice(strategies)\n",
        "\n",
        "        # result from strategy chosen\n",
        "        result=payoff[player1['strategy'],player2['strategy']]\n",
        "\n",
        "        # update scores\n",
        "        player1['score']+=result[0]\n",
        "        player2['score']+=result[1]\n",
        ""
      ]
    },
    {
      "cell_type": "code",
      "execution_count": null,
      "metadata": {
        "id": "QRrVh-fBD39e"
      },
      "outputs": [],
      "source": [
        "# final situation\n",
        "society"
      ]
    },
    {
      "cell_type": "code",
      "execution_count": null,
      "metadata": {
        "id": "Yh0kCAEvD39e"
      },
      "outputs": [],
      "source": [
        "# as a data frame\n",
        "socialResults=pd.DataFrame(society)\n",
        "socialResults"
      ]
    },
    {
      "cell_type": "code",
      "execution_count": null,
      "metadata": {
        "id": "YJ1REkIYD39g"
      },
      "outputs": [],
      "source": [
        "winnerScore=socialResults.score.max()\n",
        "\n",
        "#social outcome\n",
        "socialResults[socialResults.score==winnerScore]"
      ]
    },
    {
      "cell_type": "markdown",
      "metadata": {
        "id": "AKZsW2x0D39g"
      },
      "source": [
        "### Exercise 1\n",
        "<div class=\"alert-success\">\n",
        "\n",
        "What code would you add  to see the live the results of this last tournament?\n",
        "    \n",
        "</div>"
      ]
    },
    {
      "cell_type": "markdown",
      "metadata": {
        "id": "xMoMcDquD39g"
      },
      "source": [
        "### Exercise 2\n",
        "<div class=\"alert-success\">\n",
        "\n",
        "How would you implement this game for 10 players, and get the results?\n",
        "    \n",
        "</div>\n",
        "<img src=\"https://i.imgur.com/DE5mjs4.jpg\"/>"
      ]
    },
    {
      "cell_type": "markdown",
      "metadata": {
        "id": "DT4bdooHD39g"
      },
      "source": [
        "# Abstraction of agents\n",
        "\n",
        "Let's see some abstraction known 'OOP', which stands for Objetc-Oriented Programming.\n",
        "\n",
        "* This is the creation of an agent object and its methods:"
      ]
    },
    {
      "cell_type": "code",
      "execution_count": null,
      "metadata": {
        "id": "N3CYIfWCD39g"
      },
      "outputs": [],
      "source": [
        "class Player:    # object class\n",
        "\n",
        "    def __init__(self,name,score=0): # create the object (self) for the class\n",
        "        self.name=name               # with some variables\n",
        "        self.score=score\n",
        "\n",
        "    def increase_score(self,value):  # metho for object class\n",
        "        self.score+=value"
      ]
    },
    {
      "cell_type": "markdown",
      "metadata": {
        "id": "0FgnQgEqD39g"
      },
      "source": [
        "Once created, you can give origin to instances of the object:"
      ]
    },
    {
      "cell_type": "code",
      "execution_count": null,
      "metadata": {
        "id": "1VYaZKvGD39g"
      },
      "outputs": [],
      "source": [
        "Mary=Player(\"Mary\")\n",
        "John=Player(\"John\")"
      ]
    },
    {
      "cell_type": "markdown",
      "metadata": {
        "id": "9ZQLMrGcD39g"
      },
      "source": [
        "Let's use some previous code:"
      ]
    },
    {
      "cell_type": "code",
      "execution_count": null,
      "metadata": {
        "id": "va7J0hcND39g"
      },
      "outputs": [],
      "source": [
        "John_strategy=choice(strategies)\n",
        "Mary_strategy=choice(strategies)\n",
        "\n",
        "John_PayOff,Mary_PayOff=payoff[John_strategy,Mary_strategy]\n",
        "John_PayOff,Mary_PayOff"
      ]
    },
    {
      "cell_type": "markdown",
      "metadata": {
        "id": "-0JolnLYD39h"
      },
      "source": [
        "We use those values to change the instaces' variables, as defined in the object class:"
      ]
    },
    {
      "cell_type": "code",
      "execution_count": null,
      "metadata": {
        "id": "cDbw_md5D39h"
      },
      "outputs": [],
      "source": [
        "John.increase_score(John_PayOff)\n",
        "Mary.increase_score(Mary_PayOff)"
      ]
    },
    {
      "cell_type": "markdown",
      "metadata": {
        "id": "eKL1Un7BD39h"
      },
      "source": [
        "The instances did update the score:"
      ]
    },
    {
      "cell_type": "code",
      "execution_count": null,
      "metadata": {
        "id": "3cwmysFzD39h"
      },
      "outputs": [],
      "source": [
        "John.score, Mary.score"
      ]
    },
    {
      "cell_type": "markdown",
      "metadata": {
        "id": "gnCWeJYGD39i"
      },
      "source": [
        "* A new class that inherists previous class:"
      ]
    },
    {
      "cell_type": "code",
      "execution_count": null,
      "metadata": {
        "id": "sNHI1XOtD39i"
      },
      "outputs": [],
      "source": [
        "class PlayerBetter(Player):\n",
        "    def __init__(self,name,score=0):\n",
        "        Player.__init__(self,name,score=0)\n",
        "        self.strategy=None\n",
        "\n",
        "    def increase_score(self,value):\n",
        "        self.score+=value\n",
        "\n",
        "    def get_strategy(self):\n",
        "        from random import choice\n",
        "        strategies=['Rock','Paper','Scissors']\n",
        "        self.strategy=choice(strategies)\n",
        "        return self.strategy"
      ]
    },
    {
      "cell_type": "markdown",
      "metadata": {
        "id": "C2RdcETnD39i"
      },
      "source": [
        "We can use the new class:"
      ]
    },
    {
      "cell_type": "code",
      "execution_count": null,
      "metadata": {
        "id": "wpcsKo2hD39i"
      },
      "outputs": [],
      "source": [
        "Mary=PlayerBetter(\"Mary\")\n",
        "John=PlayerBetter(\"John\")\n",
        "\n",
        "# not needed\n",
        "# John_strategy=choice(strategies)\n",
        "# Mary_strategy=choice(strategies)\n",
        "\n",
        "John_PayOff,Mary_PayOff=payoff[John.get_strategy(),Mary.get_strategy()]\n",
        "John.increase_score(John_PayOff)\n",
        "Mary.increase_score(Mary_PayOff)\n",
        "##\n",
        "John.score, Mary.score"
      ]
    },
    {
      "cell_type": "markdown",
      "metadata": {
        "id": "l8vQWJutD39i"
      },
      "source": [
        "The new class saves the current strategy:"
      ]
    },
    {
      "cell_type": "code",
      "execution_count": null,
      "metadata": {
        "id": "Y6_kirUiD39j"
      },
      "outputs": [],
      "source": [
        "print(John.strategy, Mary.strategy)"
      ]
    },
    {
      "cell_type": "markdown",
      "metadata": {
        "id": "sAwm5RcqD39j"
      },
      "source": [
        "We can use the new class repeatedly:"
      ]
    },
    {
      "cell_type": "code",
      "execution_count": null,
      "metadata": {
        "id": "iRCd2ql8D39j"
      },
      "outputs": [],
      "source": [
        "Mary=PlayerBetter(\"Mary\")\n",
        "John=PlayerBetter(\"John\")\n",
        "\n",
        "for i in range(10):\n",
        "    John_PayOff,Mary_PayOff=payoff[John.get_strategy(),Mary.get_strategy()]\n",
        "    John.increase_score(John_PayOff)\n",
        "    Mary.increase_score(Mary_PayOff)\n",
        "    # see current result\n",
        "    print('round:',i+1)\n",
        "    print(John.score, Mary.score)\n",
        "    print(John.strategy, Mary.strategy)"
      ]
    },
    {
      "cell_type": "markdown",
      "metadata": {
        "id": "2L_pCQmAD39j"
      },
      "source": [
        "<div class=\"alert alert-danger\">\n",
        "  <strong>CHALLENGE!</strong>\n",
        "   <br> * Create classes that allows you to have several players play 100 rounds.\n",
        "   <br> * Save the scores.\n",
        "   <br> * Declare a winner\n",
        "</div>"
      ]
    }
  ],
  "metadata": {
    "hide_input": false,
    "kernelspec": {
      "display_name": "Python 3 (ipykernel)",
      "language": "python",
      "name": "python3"
    },
    "language_info": {
      "codemirror_mode": {
        "name": "ipython",
        "version": 3
      },
      "file_extension": ".py",
      "mimetype": "text/x-python",
      "name": "python",
      "nbconvert_exporter": "python",
      "pygments_lexer": "ipython3",
      "version": "3.11.9"
    },
    "colab": {
      "provenance": []
    }
  },
  "nbformat": 4,
  "nbformat_minor": 0
}