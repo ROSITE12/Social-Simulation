{
 "cells": [
  {
   "cell_type": "markdown",
   "metadata": {},
   "source": [
    "# Introducción a la simulación social\n",
    "- Rosa Humaní Pucho 20200422"
   ]
  },
  {
   "cell_type": "markdown",
   "metadata": {},
   "source": [
    "## Ejercicio 1: Agregar código"
   ]
  },
  {
   "cell_type": "code",
   "execution_count": 1,
   "metadata": {},
   "outputs": [],
   "source": [
    "strategies=['Rock','Paper','Scissors']"
   ]
  },
  {
   "cell_type": "code",
   "execution_count": 2,
   "metadata": {},
   "outputs": [],
   "source": [
    "payoff={('Rock','Paper'):(0,1),\n",
    "        ('Paper','Rock'):(1,0),\n",
    "        ('Rock','Scissors'):(1,0),\n",
    "        ('Scissors','Rock'):(0,1),\n",
    "        ('Paper','Scissors'):(0,1),\n",
    "        ('Scissors','Paper'):(1,0),\n",
    "        ('Rock','Rock'):(0,0),\n",
    "        ('Paper','Paper'):(0,0),\n",
    "        ('Scissors','Scissors'):(0,0)}"
   ]
  },
  {
   "cell_type": "code",
   "execution_count": 3,
   "metadata": {},
   "outputs": [],
   "source": [
    "Players=[{'name':'John','score':0,'strategy':None},\n",
    "         {'name':'Mary','score':0,'strategy':None}]"
   ]
  },
  {
   "cell_type": "code",
   "execution_count": 4,
   "metadata": {},
   "outputs": [],
   "source": [
    "from random import choice\n",
    "\n",
    "#simplest strategy: choose randomly\n",
    "choice(strategies);"
   ]
  },
  {
   "cell_type": "code",
   "execution_count": 5,
   "metadata": {},
   "outputs": [],
   "source": [
    "Players[0]['strategy']=choice(strategies)\n",
    "Players[1]['strategy']=choice(strategies)"
   ]
  },
  {
   "cell_type": "code",
   "execution_count": 6,
   "metadata": {},
   "outputs": [
    {
     "data": {
      "text/plain": [
       "('Scissors', 'Rock')"
      ]
     },
     "execution_count": 6,
     "metadata": {},
     "output_type": "execute_result"
    }
   ],
   "source": [
    "Players[0]['strategy'],Players[1]['strategy']"
   ]
  },
  {
   "cell_type": "code",
   "execution_count": 7,
   "metadata": {},
   "outputs": [
    {
     "data": {
      "text/plain": [
       "(0, 1)"
      ]
     },
     "execution_count": 7,
     "metadata": {},
     "output_type": "execute_result"
    }
   ],
   "source": [
    "# social result of individual decision\n",
    "result = payoff[Players[0]['strategy'],Players[1]['strategy']]\n",
    "result"
   ]
  },
  {
   "cell_type": "code",
   "execution_count": 8,
   "metadata": {},
   "outputs": [],
   "source": [
    "# update agents situation\n",
    "Players[0]['score']+=result[0]\n",
    "Players[1]['score']+=result[1]"
   ]
  },
  {
   "cell_type": "code",
   "execution_count": 9,
   "metadata": {},
   "outputs": [
    {
     "data": {
      "text/plain": [
       "[{'name': 'John', 'score': 0, 'strategy': 'Scissors'},\n",
       " {'name': 'Mary', 'score': 1, 'strategy': 'Rock'}]"
      ]
     },
     "execution_count": 9,
     "metadata": {},
     "output_type": "execute_result"
    }
   ],
   "source": [
    "# current agent situation\n",
    "Players"
   ]
  },
  {
   "cell_type": "code",
   "execution_count": 10,
   "metadata": {},
   "outputs": [
    {
     "data": {
      "text/html": [
       "<div>\n",
       "<style scoped>\n",
       "    .dataframe tbody tr th:only-of-type {\n",
       "        vertical-align: middle;\n",
       "    }\n",
       "\n",
       "    .dataframe tbody tr th {\n",
       "        vertical-align: top;\n",
       "    }\n",
       "\n",
       "    .dataframe thead th {\n",
       "        text-align: right;\n",
       "    }\n",
       "</style>\n",
       "<table border=\"1\" class=\"dataframe\">\n",
       "  <thead>\n",
       "    <tr style=\"text-align: right;\">\n",
       "      <th></th>\n",
       "      <th>name</th>\n",
       "      <th>score</th>\n",
       "      <th>strategy</th>\n",
       "    </tr>\n",
       "  </thead>\n",
       "  <tbody>\n",
       "    <tr>\n",
       "      <th>0</th>\n",
       "      <td>John</td>\n",
       "      <td>0</td>\n",
       "      <td>Scissors</td>\n",
       "    </tr>\n",
       "    <tr>\n",
       "      <th>1</th>\n",
       "      <td>Mary</td>\n",
       "      <td>1</td>\n",
       "      <td>Rock</td>\n",
       "    </tr>\n",
       "  </tbody>\n",
       "</table>\n",
       "</div>"
      ],
      "text/plain": [
       "   name  score  strategy\n",
       "0  John      0  Scissors\n",
       "1  Mary      1      Rock"
      ]
     },
     "execution_count": 10,
     "metadata": {},
     "output_type": "execute_result"
    }
   ],
   "source": [
    "import pandas as pd\n",
    "\n",
    "socialResults=pd.DataFrame((Players[0], Players[1]))\n",
    "socialResults"
   ]
  },
  {
   "cell_type": "code",
   "execution_count": 11,
   "metadata": {},
   "outputs": [
    {
     "data": {
      "text/html": [
       "<div>\n",
       "<style scoped>\n",
       "    .dataframe tbody tr th:only-of-type {\n",
       "        vertical-align: middle;\n",
       "    }\n",
       "\n",
       "    .dataframe tbody tr th {\n",
       "        vertical-align: top;\n",
       "    }\n",
       "\n",
       "    .dataframe thead th {\n",
       "        text-align: right;\n",
       "    }\n",
       "</style>\n",
       "<table border=\"1\" class=\"dataframe\">\n",
       "  <thead>\n",
       "    <tr style=\"text-align: right;\">\n",
       "      <th></th>\n",
       "      <th>name</th>\n",
       "      <th>score</th>\n",
       "      <th>strategy</th>\n",
       "    </tr>\n",
       "  </thead>\n",
       "  <tbody>\n",
       "    <tr>\n",
       "      <th>1</th>\n",
       "      <td>Mary</td>\n",
       "      <td>1</td>\n",
       "      <td>Rock</td>\n",
       "    </tr>\n",
       "  </tbody>\n",
       "</table>\n",
       "</div>"
      ],
      "text/plain": [
       "   name  score strategy\n",
       "1  Mary      1     Rock"
      ]
     },
     "execution_count": 11,
     "metadata": {},
     "output_type": "execute_result"
    }
   ],
   "source": [
    "winnerScore=socialResults.score.max()\n",
    "\n",
    "#social outcome\n",
    "socialResults[socialResults.score==winnerScore]"
   ]
  },
  {
   "cell_type": "code",
   "execution_count": 12,
   "metadata": {},
   "outputs": [],
   "source": [
    "# names of players\n",
    "names=['Jim','Jane','Peter','Zoe']"
   ]
  },
  {
   "cell_type": "code",
   "execution_count": 13,
   "metadata": {},
   "outputs": [],
   "source": [
    "# setting up players\n",
    "society=[{'name':n,'score':0,'strategy':None} for n in names]"
   ]
  },
  {
   "cell_type": "code",
   "execution_count": 14,
   "metadata": {},
   "outputs": [
    {
     "data": {
      "text/plain": [
       "[{'name': 'Jim', 'score': 0, 'strategy': None},\n",
       " {'name': 'Jane', 'score': 0, 'strategy': None},\n",
       " {'name': 'Peter', 'score': 0, 'strategy': None},\n",
       " {'name': 'Zoe', 'score': 0, 'strategy': None}]"
      ]
     },
     "execution_count": 14,
     "metadata": {},
     "output_type": "execute_result"
    }
   ],
   "source": [
    "# each player a dict:\n",
    "society"
   ]
  },
  {
   "cell_type": "code",
   "execution_count": 15,
   "metadata": {},
   "outputs": [
    {
     "name": "stdout",
     "output_type": "stream",
     "text": [
      "({'name': 'Jim', 'score': 0, 'strategy': None}, {'name': 'Jane', 'score': 0, 'strategy': None})\n",
      "({'name': 'Jim', 'score': 0, 'strategy': None}, {'name': 'Peter', 'score': 0, 'strategy': None})\n",
      "({'name': 'Jim', 'score': 0, 'strategy': None}, {'name': 'Zoe', 'score': 0, 'strategy': None})\n",
      "({'name': 'Jane', 'score': 0, 'strategy': None}, {'name': 'Peter', 'score': 0, 'strategy': None})\n",
      "({'name': 'Jane', 'score': 0, 'strategy': None}, {'name': 'Zoe', 'score': 0, 'strategy': None})\n",
      "({'name': 'Peter', 'score': 0, 'strategy': None}, {'name': 'Zoe', 'score': 0, 'strategy': None})\n"
     ]
    }
   ],
   "source": [
    "import itertools\n",
    "\n",
    "# pair is a tuple of dicts\n",
    "for pair in itertools.combinations(society,2):\n",
    "    print(pair)"
   ]
  },
  {
   "cell_type": "code",
   "execution_count": 16,
   "metadata": {},
   "outputs": [
    {
     "name": "stdout",
     "output_type": "stream",
     "text": [
      "{'name': 'Jim', 'score': 0, 'strategy': None} {'name': 'Jane', 'score': 0, 'strategy': None}\n",
      "{'name': 'Jim', 'score': 0, 'strategy': None} {'name': 'Peter', 'score': 0, 'strategy': None}\n",
      "{'name': 'Jim', 'score': 0, 'strategy': None} {'name': 'Zoe', 'score': 0, 'strategy': None}\n",
      "{'name': 'Jane', 'score': 0, 'strategy': None} {'name': 'Peter', 'score': 0, 'strategy': None}\n",
      "{'name': 'Jane', 'score': 0, 'strategy': None} {'name': 'Zoe', 'score': 0, 'strategy': None}\n",
      "{'name': 'Peter', 'score': 0, 'strategy': None} {'name': 'Zoe', 'score': 0, 'strategy': None}\n"
     ]
    }
   ],
   "source": [
    "import itertools\n",
    "\n",
    "# each dict\n",
    "for player1,player2 in itertools.combinations(society,2):\n",
    "    print(player1,player2)"
   ]
  },
  {
   "cell_type": "code",
   "execution_count": 17,
   "metadata": {},
   "outputs": [],
   "source": [
    "# resetting society\n",
    "society=[{'name':n,'score':0,'strategy':None} for n in names]\n",
    "\n",
    "# several rounds\n",
    "for aRound in range(100):\n",
    "\n",
    "    # en each round:\n",
    "    for player1,player2 in itertools.combinations(society,2):\n",
    "        # each chooses strategy\n",
    "        player1['strategy']=choice(strategies)\n",
    "\n",
    "        player2['strategy']=choice(strategies)\n",
    "\n",
    "        # result from strategy chosen\n",
    "        result=payoff[player1['strategy'],player2['strategy']]\n",
    "\n",
    "        # update scores\n",
    "        player1['score']+=result[0]\n",
    "        player2['score']+=result[1]"
   ]
  },
  {
   "cell_type": "code",
   "execution_count": 18,
   "metadata": {},
   "outputs": [
    {
     "data": {
      "text/plain": [
       "[{'name': 'Jim', 'score': 109, 'strategy': 'Scissors'},\n",
       " {'name': 'Jane', 'score': 101, 'strategy': 'Rock'},\n",
       " {'name': 'Peter', 'score': 97, 'strategy': 'Paper'},\n",
       " {'name': 'Zoe', 'score': 94, 'strategy': 'Paper'}]"
      ]
     },
     "execution_count": 18,
     "metadata": {},
     "output_type": "execute_result"
    }
   ],
   "source": [
    "# final situation\n",
    "society"
   ]
  },
  {
   "cell_type": "code",
   "execution_count": 19,
   "metadata": {},
   "outputs": [
    {
     "data": {
      "text/html": [
       "<div>\n",
       "<style scoped>\n",
       "    .dataframe tbody tr th:only-of-type {\n",
       "        vertical-align: middle;\n",
       "    }\n",
       "\n",
       "    .dataframe tbody tr th {\n",
       "        vertical-align: top;\n",
       "    }\n",
       "\n",
       "    .dataframe thead th {\n",
       "        text-align: right;\n",
       "    }\n",
       "</style>\n",
       "<table border=\"1\" class=\"dataframe\">\n",
       "  <thead>\n",
       "    <tr style=\"text-align: right;\">\n",
       "      <th></th>\n",
       "      <th>name</th>\n",
       "      <th>score</th>\n",
       "      <th>strategy</th>\n",
       "    </tr>\n",
       "  </thead>\n",
       "  <tbody>\n",
       "    <tr>\n",
       "      <th>0</th>\n",
       "      <td>Jim</td>\n",
       "      <td>109</td>\n",
       "      <td>Scissors</td>\n",
       "    </tr>\n",
       "    <tr>\n",
       "      <th>1</th>\n",
       "      <td>Jane</td>\n",
       "      <td>101</td>\n",
       "      <td>Rock</td>\n",
       "    </tr>\n",
       "    <tr>\n",
       "      <th>2</th>\n",
       "      <td>Peter</td>\n",
       "      <td>97</td>\n",
       "      <td>Paper</td>\n",
       "    </tr>\n",
       "    <tr>\n",
       "      <th>3</th>\n",
       "      <td>Zoe</td>\n",
       "      <td>94</td>\n",
       "      <td>Paper</td>\n",
       "    </tr>\n",
       "  </tbody>\n",
       "</table>\n",
       "</div>"
      ],
      "text/plain": [
       "    name  score  strategy\n",
       "0    Jim    109  Scissors\n",
       "1   Jane    101      Rock\n",
       "2  Peter     97     Paper\n",
       "3    Zoe     94     Paper"
      ]
     },
     "execution_count": 19,
     "metadata": {},
     "output_type": "execute_result"
    }
   ],
   "source": [
    "# as a data frame\n",
    "socialResults=pd.DataFrame(society)\n",
    "socialResults"
   ]
  },
  {
   "cell_type": "code",
   "execution_count": 20,
   "metadata": {},
   "outputs": [
    {
     "data": {
      "text/html": [
       "<div>\n",
       "<style scoped>\n",
       "    .dataframe tbody tr th:only-of-type {\n",
       "        vertical-align: middle;\n",
       "    }\n",
       "\n",
       "    .dataframe tbody tr th {\n",
       "        vertical-align: top;\n",
       "    }\n",
       "\n",
       "    .dataframe thead th {\n",
       "        text-align: right;\n",
       "    }\n",
       "</style>\n",
       "<table border=\"1\" class=\"dataframe\">\n",
       "  <thead>\n",
       "    <tr style=\"text-align: right;\">\n",
       "      <th></th>\n",
       "      <th>name</th>\n",
       "      <th>score</th>\n",
       "      <th>strategy</th>\n",
       "    </tr>\n",
       "  </thead>\n",
       "  <tbody>\n",
       "    <tr>\n",
       "      <th>0</th>\n",
       "      <td>Jim</td>\n",
       "      <td>109</td>\n",
       "      <td>Scissors</td>\n",
       "    </tr>\n",
       "  </tbody>\n",
       "</table>\n",
       "</div>"
      ],
      "text/plain": [
       "  name  score  strategy\n",
       "0  Jim    109  Scissors"
      ]
     },
     "execution_count": 20,
     "metadata": {},
     "output_type": "execute_result"
    }
   ],
   "source": [
    "winnerScore=socialResults.score.max()\n",
    "\n",
    "#social outcome\n",
    "socialResults[socialResults.score==winnerScore]"
   ]
  }
 ],
 "metadata": {
  "kernelspec": {
   "display_name": "Python 3",
   "language": "python",
   "name": "python3"
  },
  "language_info": {
   "codemirror_mode": {
    "name": "ipython",
    "version": 3
   },
   "file_extension": ".py",
   "mimetype": "text/x-python",
   "name": "python",
   "nbconvert_exporter": "python",
   "pygments_lexer": "ipython3",
   "version": "3.12.5"
  }
 },
 "nbformat": 4,
 "nbformat_minor": 2
}
